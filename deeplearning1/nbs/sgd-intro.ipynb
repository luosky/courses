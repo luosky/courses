{
 "cells": [
  {
   "cell_type": "markdown",
   "metadata": {
    "toc": "true"
   },
   "source": [
    "# SGD 随机梯度下降\n",
    " <p>"
   ]
  },
  {
   "cell_type": "code",
   "execution_count": 1,
   "metadata": {
    "collapsed": true
   },
   "outputs": [],
   "source": [
    "%matplotlib inline\n",
    "import math,sys,os,numpy as np\n",
    "from numpy.random import random\n",
    "from matplotlib import pyplot as plt, rcParams, animation, rc\n",
    "from __future__ import print_function, division\n",
    "from ipywidgets import interact, interactive, fixed\n",
    "from ipywidgets.widgets import *\n",
    "rc('animation', html='html5')\n",
    "rcParams['figure.figsize'] = 3, 3\n",
    "%precision 4\n",
    "np.set_printoptions(precision=4, linewidth=100)"
   ]
  },
  {
   "cell_type": "markdown",
   "metadata": {},
   "source": [
    "## Linear\n"
   ]
  },
  {
   "cell_type": "code",
   "execution_count": 2,
   "metadata": {
    "collapsed": true
   },
   "outputs": [],
   "source": [
    "def lin(a,b,x): return a*x+b"
   ]
  },
  {
   "cell_type": "code",
   "execution_count": 3,
   "metadata": {
    "collapsed": true
   },
   "outputs": [],
   "source": [
    "a=3.\n",
    "b=8."
   ]
  },
  {
   "cell_type": "code",
   "execution_count": 4,
   "metadata": {
    "collapsed": true
   },
   "outputs": [],
   "source": [
    "n=30\n",
    "x = random(n)\n",
    "y = lin(a,b,x)"
   ]
  },
  {
   "cell_type": "code",
   "execution_count": 5,
   "metadata": {},
   "outputs": [
    {
     "data": {
      "text/plain": [
       "array([ 0.4841,  0.0842,  0.2475,  0.5776,  0.0385,  0.9217,  0.1798,  0.6159,  0.7182,  0.8436,\n",
       "        0.0688,  0.7568,  0.4136,  0.842 ,  0.2816,  0.1374,  0.4325,  0.6026,  0.6128,  0.7094,\n",
       "        0.9059,  0.1765,  0.3313,  0.8544,  0.4089,  0.1748,  0.2679,  0.3268,  0.8792,  0.3778])"
      ]
     },
     "execution_count": 5,
     "metadata": {},
     "output_type": "execute_result"
    }
   ],
   "source": [
    "x"
   ]
  },
  {
   "cell_type": "code",
   "execution_count": 6,
   "metadata": {},
   "outputs": [
    {
     "data": {
      "text/plain": [
       "array([  9.4522,   8.2525,   8.7424,   9.7327,   8.1155,  10.765 ,   8.5393,   9.8477,  10.1547,\n",
       "        10.5308,   8.2065,  10.2703,   9.2409,  10.526 ,   8.8449,   8.4121,   9.2976,   9.8079,\n",
       "         9.8384,  10.1281,  10.7177,   8.5296,   8.994 ,  10.5632,   9.2268,   8.5245,   8.8037,\n",
       "         8.9803,  10.6376,   9.1333])"
      ]
     },
     "execution_count": 6,
     "metadata": {},
     "output_type": "execute_result"
    }
   ],
   "source": [
    "y"
   ]
  },
  {
   "cell_type": "code",
   "execution_count": 7,
   "metadata": {},
   "outputs": [
    {
     "data": {
      "text/plain": [
       "<matplotlib.collections.PathCollection at 0x1182dfed0>"
      ]
     },
     "execution_count": 7,
     "metadata": {},
     "output_type": "execute_result"
    },
    {
     "data": {
      "image/png": "[encoded data removed]",
      "text/plain": [
       "<matplotlib.figure.Figure at 0x10df5d650>"
      ]
     },
     "metadata": {},
     "output_type": "display_data"
    }
   ],
   "source": [
    "plt.scatter(x,y)"
   ]
  },
  {
   "cell_type": "code",
   "execution_count": 1,
   "metadata": {
    "collapsed": true
   },
   "outputs": [],
   "source": [
    "def sse(y,y_pred): return ((y-y_pred)**2).sum()\n",
    "def loss(y,a,b,x): return sse(y, lin(a,b,x))\n",
    "def avg_loss(y,a,b,x): return np.sqrt(loss(y,a,b,x)/n)"
   ]
  },
  {
   "cell_type": "code",
   "execution_count": null,
   "metadata": {
    "collapsed": true
   },
   "outputs": [],
   "source": []
  },
  {
   "cell_type": "code",
   "execution_count": 18,
   "metadata": {},
   "outputs": [
    {
     "data": {
      "text/plain": [
       "8.9717"
      ]
     },
     "execution_count": 18,
     "metadata": {},
     "output_type": "execute_result"
    }
   ],
   "source": [
    "a_guess=-1.\n",
    "b_guess=1.\n",
    "avg_loss(y, a_guess, b_guess, x)"
   ]
  },
  {
   "cell_type": "code",
   "execution_count": 13,
   "metadata": {
    "collapsed": true
   },
   "outputs": [],
   "source": [
    "lr=0.01\n",
    "# d[(y-(a*x+b))**2,b] = 2 (b + a x - y)      = 2 (y_pred - y)\n",
    "# d[(y-(a*x+b))**2,a] = 2 x (b + a x - y)    = x * dy/db"
   ]
  },
  {
   "cell_type": "code",
   "execution_count": 14,
   "metadata": {
    "collapsed": true
   },
   "outputs": [],
   "source": [
    "def upd():\n",
    "    global a_guess, b_guess\n",
    "    y_pred = lin(a_guess, b_guess, x)\n",
    "    dydb = 2 * (y_pred - y)\n",
    "    dyda = x*dydb\n",
    "    a_guess -= lr*dyda.mean()\n",
    "    b_guess -= lr*dydb.mean()"
   ]
  },
  {
   "cell_type": "code",
   "execution_count": 19,
   "metadata": {},
   "outputs": [
    {
     "data": {
      "text/html": [
       "<video width=\"500\" height=\"400\" controls autoplay loop>\n",
       "  <source type=\"video/mp4\" src=\"data:video/mp4;base64,AAAAHGZ0eXBNNFYgAAACAGlzb21pc28yYXZjMQAAAAhmcmVlAABRjm1kYXQAAAKhBgX//53cRem9\n",
       "5tlIt5Ys2CDZI+7veDI2NCAtIGNvcmUgMTQ4IC0gSC4yNjQvTVBFRy00IEFWQyBjb2RlYyAtIENv\n",
       "cHlsZWZ0IDIwMDMtMjAxNiAtIGh0dHA6Ly93d3cudmlkZW9sYW4ub3JnL3gyNjQuaHRtbCAtIG9w\n",
       "dGlvbnM6IGNhYmFjPTEgcmVmPTMgZGVibG9jaz0xOjA6MCBhbmFseXNlPTB4MzoweDExMyBtZT1o\n",
       "ZXggc3VibWU9NyBwc3k9MSBwc3lfcmQ9MS4wMDowLjAwIG1peGVkX3JlZj0xIG1lX3JhbmdlPTE2\n",
       "IGNocm9tYV9tZT0xIHRyZWxsaXM9MSA4eDhkY3Q9MSBjcW09MCBkZWFkem9uZT0yMSwxMSBmYXN0\n",
       "X3Bza2lwPTEgY2hyb21hX3FwX29mZnNldD0tMiB0aHJlYWRzPTEyIGxvb2thaGVhZF90aHJlYWRz\n",
       "PTIgc2xpY2VkX3RocmVhZHM9MCBucj0wIGRlY2ltYXRlPTEgaW50ZXJsYWNlZD0wIGJsdXJheV9j\n",
       "b21wYXQ9MCBjb25zdHJhaW5lZF9pbnRyYT0wIGJmcmFtZXM9MyBiX3B5cmFtaWQ9MiBiX2FkYXB0\n",
       "PTEgYl9iaWFzPTAgZGlyZWN0PTEgd2VpZ2h0Yj0xIG9wZW5fZ29wPTAgd2VpZ2h0cD0yIGtleWlu\n",
       "dD0yNTAga2V5aW50X21pbj0xMCBzY2VuZWN1dD00MCBpbnRyYV9yZWZyZXNoPTAgcmNfbG9va2Fo\n",
       "ZWFkPTQwIHJjPWNyZiBtYnRyZWU9MSBjcmY9MjMuMCBxY29tcD0wLjYwIHFwbWluPTAgcXBtYXg9\n",
       "NjkgcXBzdGVwPTQgaXBfcmF0aW89MS40MCBhcT0xOjEuMDAAgAAAEjVliIQAP//+92ifAptaQ3qA\n",
       "5JXFJdtPgf+rZ3B8j+kDAAADAAADACQC/Me/oQdDNCAAAFCJz+CyVyQbcaF/qRJ48MhtaoXL1D4R\n",
       "xt1cZVWszj7Oh/noj8VGC77/D1aLxBdFd1eeg+Gmi/ZA8O9WRjZD934wpKNkfUDTIVIwEJeQOgBH\n",
       "ir7W1fM9aYK/GpvCqL5DiaiQa3+LtmXbmkwbzDaXC22ZbSFQO4HhoINqYYFwABYk+9aYhnS04o7a\n",
       "KKGwDbMqCR7hJJdqE2wS1sShLXpgSoZDXBB944362X/RNNiraKIXrBozadZcAJ4gOivMkj9/Thbm\n",
       "g2X51ItDv82bUdVWZXV/lnfh+aoPyATLaC71S0EscKFx87317efQ/XGFgT+7Yj51sYv/W4LQgOE3\n",
       "iOIqx1q2gv6fBrNfZoh9gCWdg22MVWc0K0iIm+q6DFts8pST2Kqkt3puNnUfXUNMgA3QHZ9meocM\n",
       "yXkl33jp/OqKXxQmX8fDobQCTYkMrlWClhIlQkySd81naxSIRw796qqs82RV10wAhcbRY0wPYTdO\n",
       "DeqEc7RsE1cgrLEmHmaT1V/LsJr/YPNBOVDJYuQoyIhm2VVfbBh97MKHv5PlWfGm3yGpP1v8wJ3P\n",
       "TuGZOgO8zhGi6WdCsxg4ckNTXXkuBoI2hQ5Vc7xvvmGe1RljADKNXWc+Y/gjM4kt5CjgV9Bk3r8l\n",
       "N0DoVhFmkypK4e+APYJqY1NK6Cvp3ecaiOEg70oTTGy02cCYt7iwNmL+u7+xy0MuG9KMTsHRqs9h\n",
       "jmlP0YrmdeI9GBw4gY3BNePOvATzAUMV17QYUBkARkkuHwyTLPzX36Ue44zr+IPSRNC26xgo6jjI\n",
       "FJe0W226L95PRdeno+2O8jjxkZMtScYE3gZ0R80NwLRNErYUgVgk68q8fWYqEICLn0pxokN5vz8j\n",
       "VuEHiNmo84cgPH8FACYAJm4+7jhCYvWi/56H/OL8C0B5izy2lnT9tPQLfPVycpSSnLDqNghA8QEH\n",
       "840XuwscwaSgGu6iFrr9CWHagaYRqGX7F4EHB4AMRWtrXWuwksa66FbPEPORkHOgAJ+6/DfN1toL\n",
       "YTVrXuHiurgDFH0nsQRpEDuVIG/uLJkPkeUbd8qVaR2PsU30w6s+xmaG6von1SzwXJLaM/Ihtagt\n",
       "FOKrLqvFQsyZmUQGHj2s+Qa0Inrrx9uDdWkFOxGUhkrMLZSKMX/vZgOhSRfuVhjnP7WTxsstQ66/\n",
       "O7iaV8mE4g997d+mJwARlWHWdJ7M5BpBKqAwBKL6N0fKeFoiAiciSEQt7qrF9Z3r1JOynKgPdoSY\n",
       "1xqWaexmvYlGeyMw/+pug7/+ybruMx/lSPG8U3CXfS1uTQz0w7MnCjC7I5Lce3yS8Amv1+h5PuY6\n",
       "JGzrP+X7wvreGbF5deR3HVeWDMDiPqxA5RQ607l0uW4+c+N7X5O04gl58wwAKUk4Dk+SE/kIXgEl\n",
       "eqI9t6JJm2sKpWPCpX7y8U+RaDaMiSStgsLmWL6TMLuhSqW1MN7kKP7Qx5y7YrU3eehY26bc3dHD\n",
       "GaUfSWTJ8AXCxJLcIADWzJ9Lj3pgoZKICagMi+zmngR6g5bob3CMpzzdgFbwFwuCWPeCLDhYi9KP\n",
       "oiauv402zTYk0pA/TEWUBNrGmZWy13mlkyRjXCzThxKEcRh+WwiSLdUdTbSIybpeC7ZRX6GjVQD4\n",
       "jAmJPbzzhX81bPRxv/+U9p1lBzWU4bD0yJRuug83aA/mx7MfEXnOL6iNo6etJ+BpbgwP4Ke53KD+\n",
       "RQufo34KdcDraKGg4MrF880IAkgycYXlFCYRo//BYMZc0VWMNxj/hS2ouwRsKf4cc7V5FHspgaFV\n",
       "tFZdlKVNG8TeeeWfeyPH5QmpEAd+v51OOhA6j+rxoUdF9lOQ/UyIC+xm41eo/0PApQWt131Bl8U/\n",
       "XQfJguFEYghlsAnLnTDJjYRw2XTfZiSmdxmcYYU/shHD1qs9hDPt4SgBJGC57auxcLjIT8LDJhAT\n",
       "KaV/BWo6KeNZuFHzvgvPyscQtB57ZUytYjiIze02OFSMKa44zp9A13Q46p/ScB4fznN+w88bABK3\n",
       "i1PXsGC14whmWMFc/46sGuFEyY9h7xT77WeaTLLExGHZtMtqMh+hK3UMCmHv8SFKK8leTL+BAvwv\n",
       "emIFJAjQ1fm+/xDRflZOX/FwmQPu1oI2u3+FN5SPLOb/CkvN45EIO7k2mwQu4MgWt8pg0Iyx/5mS\n",
       "SpY5L9JmlUvdX/e2zOj4VcxGjleMnNXdxB0xp5bEznCOMwKtN2iVQBgacZrITnBQ1Eo5phZ0S9It\n",
       "F+PbgN3nJobZrWVJS/VF2Tnxxkoke1suwOuWxU+rQ0HSMMA/KWZ+MqE1kBZicpujT+AC8QbdKLIT\n",
       "KKxxKT/G7dwo2iMVHKKrUIwc3/IWK0RIqC0ChAdYsy/BUfV0Q8Vk8TbA2XtiPh5q0/XRNm4cevRi\n",
       "TiqRt2BBmjOnWiJb8D3PcfDFNWsm2itc9FwKYB2j8t3b+YkU3xxAFFu53xXfYKNW4nQoKt/32AqF\n",
       "6HFNdldVZvwb1T3/7OCyJPxAEJpiR8hFEIOMwAcp/BxuF4LnDEr0N/SiubHtMck0Gc/3sWP0AP7C\n",
       "Zbqn+tFOpYPfbRKzEUPvnIxd/I1byJqInNEItZDc1MXX6lh2L5+9PGgXEM3riLV5+S6NCAxfGmEg\n",
       "2K+v6V0WTXbb+xJ5Rylzvh3VdaWkMC6D8J6t35WRuJVPsSDi31rD52eyN+wSC8haUpapjTtB5s2N\n",
       "vDwaaBu0ijjHXmU66csrRa2aRxf/SgGVtNm/tz9antyvytaSQ/iK3MG9F+e7KMO31sLNFcc9iAP9\n",
       "rJP1AmEPwNoTfO3chdvecdMM3nVpwiG0BrPh1rEje8cGIsXjb+FxZHXDnOzf8xRc3fk63POiBhWx\n",
       "Qu/PUPbU04w7fe1jekOdj9XMKzg5B950G+dQgTPpKkNYiL3HPdPF62G1B2ZEGdF8HV+Oip1nKXPq\n",
       "eloXs+mrlHlmQIeQr8YsSOH21Z5QSkhgwLRF+Cb1ducV7iiPjYaM7QeaghnGogzKhP+nlPyFMsw/\n",
       "X1dHu3ULBmsf/wLKstXld8v+7R9pPNde7k7QQn3DUSCI+0keEXmuOMpGOLy9Msovw2jnzkHtoseE\n",
       "vSffhw2mXdWCAQsVFO6Y7gYRe8N7FwEI9mwzlI02GRmhX3oDX5UGjdjABkmlJCJwuct5luXfOXIt\n",
       "HEFVH/OXhpC5jD6ghN4Q2nIcdkXEr/gaRlc1juMxGQ1Q+NVZ8P1VcH18cbM7/9O1b/MhSVa5fikF\n",
       "gC5Cc5v9UmWR6kmrM5lsXlgzdiHKeo9rU3IczmHGNCipa6RZeRuGCtn/Hc7nIAKNzvSCjfgTVb48\n",
       "k3W+5kYdpGd9oYRdfvpHJb9HybM6rVx5/lJX5sC5EWhK+2SaEU2gt8NPoq8EX+vYLAJTqmmz+R/h\n",
       "dnFZEkV5PRXcKnlqyrB5yw15h7YMqwVygH82aKX6eiuq4p08lDUb81WoIZagMC1HxbygqhTdTYKh\n",
       "VYM6CHFayij8yIoe90j0eOA7TTbUzQfkKxQ8L4Qql9oNeyXTsn024na+yxlVitkoxFylvGF1rNV4\n",
       "dNI6ngTTfM0CNJAP/T7NgNLdX/vXGe6bn1bvvKsOyED7Iemm6xoqiUB8Ldwm5O2NdhEXEvnTYf+M\n",
       "2rk3RLlIxSO8k8/2CtvseiBSRkHD4R8E6V6NJQbxzzam8JaJfHLg1D3CZVmbT1xQdHvnpvZgTZ0S\n",
       "SavAbRGGgQE8QVT6xwrrfRlfCkQSxoRASqzLC5qUgdXVUqtFz51DTcma/JIRgH5baQMhegZvum42\n",
       "49kbibrTI/fvU25CU4drp3ZypSwJVwWiG6aMYJSBeuBjyougDVUQ713pef2ONFfF0exabZBdNqJe\n",
       "5qbkuS08YevSUEKm8K20fSZxlHL7BZcsBTEQpPClQNKVETapVZqmY6YKy7H+6QbH8crt673h1qTi\n",
       "Sacws2AOWLJT6jCdv/P5Ed5N9Jxcd/HHS/+2//55lzP+42CyqAU8OnHkN4xPXiBA4HvlE4ZsrlJB\n",
       "r31CEBV8XfM0WvwpdqOIqx6xZKPw0VZ9iXoBZxixZroWNsYvsdBE/0mzTYtLVnrHbHGH06/MGApm\n",
       "UDTjMgvChHOA2k7XjaxjILZ1ON6D6afC/LZgHzhmEIwu5oamyWWDYlGM6HBGzL1eDN7udfC7TPsb\n",
       "8AQzcOpSoP1PznFXF+YaW+Fwlad4pg+HaYO4B8cYzpgYL+HrC/xntoIITSXfspj8C+RUMOryCS2M\n",
       "Th+i5j5vFm0QF/i0fu+zpUpNgsHBdTkLPcTuoCllcU2UDJLYfUmthTLWvDy+wTOqmysfvXkbVAmk\n",
       "cOQmGEKAOENWVvd/h0o+/8dtV1UwSRxRNLMfCoIS3sHPWKe7bM0PPLvNt+Z2g1/FXbaq+9nxOXTY\n",
       "ZB88yBbEJNHxMhgVuojOFzqZ7O2wWW50Y/Pec1V2h4yj9FGi2GaGWiteX2apEeiMs6AZ6V869Inl\n",
       "/F0uAAKWAAF12mUYj1xtLQSjAz4wuz+dNpoSLmFgICvtT43CcioM3mQJtR7yAVZD0rWuHmW8AN/0\n",
       "llTKrd+ebkaiwHYuvPFLnhqUiTFqdNKYKFsyOd9Uhvu60KGXdmX0WB34Gu1ug+alOUssjp3aF208\n",
       "J2yvWykznF0NVrLpyyLfPq71uNDXS798vZOESuc3bp4xxuxFx83X9jsCimlU/wmtzVdolyMULYPb\n",
       "azWdQNp4XLJ4QNlIb/qmP8+tnXlaJsRbtpea0VieDWvtHq6c5aadLClc7rimOlE3I14oETzefhD7\n",
       "Palf6XWk5h2Z0ekHrK7hM1zl3hAqddDnZ3mVTLZLta+0/wU+0ejs2nqXAc2SUlanVHwnQeJX8dfS\n",
       "YB9p0MiNyPCh18TEE+W49dRXcFsqBTMi4VyiX9QLgk56A2LOQdj1N0Nvz7QN8I0f1b9psrdLFZAr\n",
       "dmwU7BLn+Ew70368mj0osyUuGNbfu8TcA07htOcuNAuGKKBjDShsRyuLorAQuwzJiN2Cg2DbdA/q\n",
       "jzoeOJZh3kJlqKDbBIkJN19T7Vm5tPkjSpuH8HFIHOUJpgfdA8j4i4Rbqz/HJx7lvZJVtXE6f+33\n",
       "G2m9De6PfqBq68bZAHHdpM4JS7XQGCDQuwAeU2tTtzxVybmQZaTZnLOcireQUg6xJt6ExHfkqqlV\n",
       "YKFuv/fPOpLPlrLqgCgEOFBVy80n+eM/hrawEkedUDq8T29fPWDlYfEtw1Ioxs5aGrFNTUaPQESB\n",
       "4K+4HyYtoTBrwdPs0eTxn94EbKnvBuGN5W5RFFJ3QKdVbS81YFoKwGY1Ko5vyvybJVcVojH+zrOF\n",
       "hT5DYfpvnEzhtKk7zqvUGTyqJ5aDRv3S6vhJWfBbg93xeaWF6YxsYBELlvH3IKA/tGqZW+QEMdl0\n",
       "41T1xE7bZTyDVcY2whhaMfPMzWndgt0BFsPVfpUehb1P9jrlgm1ZS85Jq9uNh1s+J8Y8fiN+8FAc\n",
       "UHzXdFuRLk5a+aGAdqJGztus2ApUr/ozF8xQ87mSA51EIWFWzV1Am0rqK9h9114QvhEIBEjwRXTN\n",
       "g+NYIDM6HHvpXPfLitNaeRGIZZUdFiAtCLcBa1nuEkFNhhKyKZDs8/HU6Eath6SgiipCjPJVB4My\n",
       "RHyy4stcAvyD9LRnufmpwrt0e8Y0auxhZPYCm8p4+3AOoYagxxJiO41HROZHYjtHLFYMFBx4WpRO\n",
       "x0oxrS0b/lIMxnmcw/N8km+BwTkFWXXnOHrKK3x9SmVMmABbNurgLJyFinqU8ig4rLWxY50r1j88\n",
       "zwzRSmejtkbZm9o+499uRT2mjdxiMSmMprBJ11bl1gB3CdkwzUS8VUPr8XFt8cQyM1Y5YaiwyR2I\n",
       "PTd2p5mM79e1mENpAdFzSy3stjpL+amv5RO9+Ojk175TEoRZlBUKSt0xANRECwUA9l7FTKBPx0tl\n",
       "sa7rBgQ0tbyWDZygK+UdIYwTe6MRVzEAoSPMdv/88E+gvi8tDUduiqmdE2S2wPZnIqLgv8joi/rG\n",
       "tT0Ps15FJ9Go208Uhk9k94sKBN90AD6YRmLqWPIgp+nE12xXIha6VPfrU8LrnRFkTjwmNbbcum/X\n",
       "aFj/1iUtFA9021+h3BSqftkhQFhpkENweT9rZdRLo1K9bogmt0Yas8eCNa2Whk94mrXEiD7kL0te\n",
       "rC9fnanlKvr1sVLKCW3EoWy5ZIaVRAooAACfgQAAAe5BmiFsQ7/+qZYAKCR8VAL+3qm5CdM2+Zl/\n",
       "9JbtT9RQDkr3vqmp6JD3jT+27oUM7q0IdpXMZk7DaXnROFwDdYxcBACNBU7FMmuwvEm3eHzhBbG5\n",
       "6UJL+6jnpsp3/cIoh5Hl7Lx2811EpifBqnSWvgjQGDpss/hmaKqxiczxGFwNfp/jTWlA++IsiQxi\n",
       "ugXfcdjEBmm1dTQoqPK3q7nztPYOYLDqtE1tel5/7rzurXIrXyENuCeQJGE/ews5esAonVrYGUw5\n",
       "LXZuZ7NnxqTshdvF91Tc2cFK7tQtTassEzIOVaG8mtHnyJGYGWX93oU87s+enFU44L0C+r+ybeQ+\n",
       "v3oPEOn1xDrzHL8+8GHLqdR2OuTAYzdUA4wSB2BQY+nikaeDymYX7ZVgHLNsk8+d5hPAyDOdspfE\n",
       "Z/WEkP8SkDjhQGeBIx3aP0bg24sQ/1D9yYMTsFEm+oYc2sOPbIP3L0I+qZ1TXTeipPG2T3CA7AO3\n",
       "5GCsnyFCgKnASHw7fLU1VKK89L4sM8i0Vvf75rYoBQC3yq+4e06uBFqjcyZrxwNUdSlcaRMMgqwk\n",
       "VQfhIJ9z6LhO9TC+0Zu8HCFQ3YNWkTjIQAAhQAAAAwAAnjlgWys6qkdr66Mk2XZvZrwe4W1hdXok\n",
       "p1z/i6nzHHOCWheKgAAAApZBmkI8IZMphDf//qeEAAAdogEgD59tO4GK9jRp82ASQ5hpdORYUcwn\n",
       "IcxinZhPyiiZ+ccF0HBj2vkOY0+EWTmyZVn/GE3BzoFbCsIJsd5pV5OvPTG9S8k1B4a9a2sMAPc1\n",
       "cWgzygrDxctmHhtAzuJiFkkHuph0w4EfRYtnSHE4R7CklJz/cFP5FeuaUkZ05A13THq3vwKVvlXp\n",
       "lDyTjpNTjNB6CvfD8s3uFA5AEVg+GC9jvZxHwS0zBGCfQOPO4+ff2cNOxD733i8vguU49yS/obw4\n",
       "2Dl2Dog+FVLIv8ikrDEe/8XEgeJ7pebw/dfzezVqfsKrdc4owLkuwjxtSQucVk3deiFkRDax1Q4p\n",
       "71VB8jE7XXMh6FYaMW+buN2QKzSC02AKobdeWjVdt1xVfthlCSRp52pfCRjCXNipWzHZ+VsfZyWm\n",
       "IGwfFLRmldDNmgf8KxYlRk9X06CkSncvsvF0kQzHbrm7AoPjOBnaUavv1Ep4C8ywXSgtr6op6WF+\n",
       "vkKVrbjh+HMJlPeNRk3TJ4P+453LEm0mOsaAL5J//XNxRrP3PSegt9Tz8wjM/0sa835N1hZT2aVD\n",
       "Ax4q70bQwLcMvZ3AgjjM6r1Z/FU9UGO++22qUvzoCGIBOXk2JG72EmvS4W4QTNaDI1AH7JsYp0WY\n",
       "eXZAaa5+cjoyvsmOBVDaAAR0cCycycvNsqTuh8DaVpolvz2jaA1PTmA1KMyOntQ1ZxqroAFZEgFI\n",
       "p4JViYKjVOp+oM3CzS1zEe7K3KTh0WP3bZxolFpUXdN+7VwDZwdyU9DJbl1EIJu32JNEZtxtNppN\n",
       "py/zoTFjFpEt3y0l0mUwymsEQ5u921B10YCf0AAPZ9OMXKVhQ00bNJOiN0QX7prc4AB4wQAAAzJB\n",
       "mmNJ4Q8mUwIb//6nhAAAVjaWoArfuRl8uoGdf3POG3XXh33DtmgL5nv65Fwg6op7rGhyi62we5o5\n",
       "+/8YMenEcC0YNzP+lix8i3JbnxbL0JOu8/Ga7KKObDoegtOPf/kYHrfcjCSNhsFkP8u47hFi5/sg\n",
       "kapNYosmr2+l6F4YGszF+0yDLCIK2guk207wHy+oYlPRpme44Y0PWc07sn0XRkKE9sEg/phPZhSY\n",
       "mt1v3b08xgJjFMDa5yPPa5Z9v2xf+n2pcUuNLa5w96x3WgVtCFOU2OSvU4EgsNq/tF11cKrnjjtJ\n",
       "hnrA1+DLSGNdyP1n3jfTXfhdjy+N/B9KZffDvZgKYHERW7dSyj4g+bpWIlzdLJcKIQRJ2lYoCDz4\n",
       "+fAcyKNOjqaItoM8cd9FNk7uZRqTNItfktf5j0kGNCl2YA25CPRBvHB37qwcMkbNAHb5nY8o18Wn\n",
       "6Pr+xvMOdAB8Pap7tLfZuuWGcsiF7Ke1jqHc+atZv15ktgj69Zi4gPqpw882huDRMWziyY0B8sgI\n",
       "95eH9HcpRmiArZYNOCFbadY03easklNLprIQcrE7yejILB1X033LNdP584hSSOebbDrfrgaUEm2H\n",
       "EA35UvFY/SdiYMXVmLeANt0REP+DDECi9RXpVi8SdXVarFMUXpwKNX95VY99kkyHSeR751HzdO2d\n",
       "t1xFjen7vnj/aKi3pisHD7OyPTs1hDZX8WVC6AOM54983EaxR4Z1bnBzw75G6cFQT+qTKJWQEVdu\n",
       "p3t/iuXUgpBmqM2U1y5aYZ4ntR55ueWIYb06ZxUMgCxxu2KpjS2qPtU69FZ4p4N34B0RD4kM2Trd\n",
       "uJ1R7bvXuwz9KBWv0I18NsxjIffR8Rf6gLR/H9Q9ETJz4a7sILcqMnYKCsZIqOqPBV7G313tnuOG\n",
       "6zB2Is2bJuBNzFuRoMVEfIESSgNIIhf2BZp5XWvaYdhQSB3ckEkbk7dwbDm+4++l8x+2cKvsHZxM\n",
       "ZvbifSBY3yes4iF4R71ex+Far0BwmmRMjz32rezxaGSIM1RweAdDopq9nBJu0IKUggABi9SKUTDE\n",
       "cfkkeFTUAAAPQYAkm2a8sACygAAAAp5BmoRJ4Q8mUwIf//6plgAAt/C34eXRQATt8eaM0e/tRcaL\n",
       "cicPZSa//EnbZRTkRQq21ldEzr4mN8BYH/Ga/UGY4Mx+DbleVNokWVeVcBESE7YSiIBgdMio0iPD\n",
       "wmngZcSYw4ELJTe2psJBCmpKspl3njCyYj67kMqusfAyGsGpqXbqt4buplEm4Uo3Hd4ZVu1J8f6H\n",
       "E3sVtG2+MFjyPR72PzK6WmK7sPVXWBDVNB6vNk68PFeACM/WEMxmChgTGwdQpfqzFa4nwOv5HPdf\n",
       "i9pCO27quUUumU4Iy8J/ttZdAytgRQ5QXKhsYQBJ3UWj15/lmScWU7VsJslXmaOzRSVLPI0xSiXs\n",
       "mxwmAopkItHc/RJGHXajDGPHfCeSY6NGMVunA2Lp0TZkvI9mudgBJbZiSLReyYTZnCQWYymUjRAt\n",
       "alLINqUVmVeMttaDoO4uzLAJR9x5PKjSPa3vk3YbJC0qtdlhB8JckQbFTNmJFW3iaomU4vbVlN/e\n",
       "hGcCVB9P8hIIRLWxOLFID1zWqDOlR3AdgbkbK0rrG/GsRnzaKpmk8atsUvtD9GQV8Cg5DClnmcbI\n",
       "Fo2Ly8FsY+whDrPigWgkbgnMcmIEnLRxruyQsMKe55j0NomZ4S/6J5irf6RGBetEunDE6iM9dxaU\n",
       "cM338a7AJxj85drjQA5awy7SgOjc/I9BkKh/LQK7DY0U+wLXhCaPeH6iX0lK7M/mjtNJjEkjWc+3\n",
       "NS8ub8SE1cykVN6+/320bLfIpplXZzm6Dj92nlog0Safqw1nobrC5HrLuHexDauRAA1L3f0wYB4I\n",
       "1Rw6ozbsh3CpUqNee7F59ktdOUEKhMLkXOQnr3BywotSbceLtdlJ56ucV4NApsT3OFVuDJZFDO4T\n",
       "c+AAAJ/GWIeBAAABukGapUnhDyZTAgh//qpVAABvJ88hQiYOM0b/BQ5QoHz4GqHBUk066kjN6YS5\n",
       "aWAJqHHgkQF82ZClX5Pc4CWHXlv+I1Efms4HC6anR5XPP0sILsnS/xsR3t5jNjeXQ/CzfXM1gLwj\n",
       "uxVU0WZfMsK87YiN/zrCf3NcSbThGagNPlJG8XoP0p2L0ek/9DKSUBhbyT5D2JUeSn8Sl6VJWsUj\n",
       "5FRwxSeRulhuMlaty8qZxauvX33Fsj60qZj23CMlPZBQ+pZ3K9D+8dxrg1Hna+1y1/vhYw3RqEvl\n",
       "zbv49SHbDSGpQ4br64MpP51jTTD9eQU6e9sNUp96MV5QBunj4oWaCaQC+rnwOCeMBjdAK/W8ZoNR\n",
       "GBdU2IUp5MetyYJxbWmZbPKVsxF6w6S/W5wR0O7978GSH1dQ37B5mfZsnjXaEVopIi/AUC+GZ8NN\n",
       "Y4mX6Imk275vfdRPszcUcSgcsPtqHm0UAON/MvHucwvpKwsib09OEJvv0cyF8JEJHufPNLQeK3FO\n",
       "qBNRF4fb8RwUdSzqllx9NN0mulo1LEnQS4lVrN4uQWtxKOANgABBBPcWQjL8tFdZSA8VgkVRtC8A\n",
       "AAGGQZrGSeEPJlMCCH/+qlUAAOptL+HyiewAhT5CdASBGsncGrNNYepOgIEYAHWnkYvgzLsVueXi\n",
       "GM+qhy3OQwcx0JQZhCUBBfstHIa/qN8RGqv6f+9YcCD3cXjgg33QLvB8Gnm3dAdrbqXzY5awcMU9\n",
       "Wio+4pt2j/+kOs7G3DxNp9M9SO5arHJFTjLDkcsnJgj3f/lFXb2gxy15HKsuf+/aY1dqvGUez+05\n",
       "aE/XQ1A/q54e035zBK+YoulKFKXGyIoRNJtJE/z1Hq/FARWPI2EPYb7d+2L9Cl6g574Xc4kunr+L\n",
       "78Yq1soTeqaBTP/acHSgLCeRvo4+VXarcSKLPwCe8r4yo6MTOYeUY73shhhvB78E9P44Ag2bE9rv\n",
       "7yZzJ8lt61wxzhK3xaQbR9H1dJRzskOgRX0QkWsL1+U0U0xM/WPQ9+7abHuD757U28rojcvegvFa\n",
       "P1fk4jsZw4g+ajpoVOAlf5TGKOfQi1oAcKtnnqgv7suL36ZgFpAeOvypwUjGk8OzVEHBAAABo0Ga\n",
       "50nhDyZTAgh//qpVAAEIn2o8pFIBFWf9GKi3IkSdE/4qEtBL5odAcW7dQ9Wl02Cd6v9J6a9IHYfA\n",
       "7EiYBLcls34TaYLu6X50MRV8anpgHAAIQR1+8Kbk+y+8Jlu9Z0ItzdtD1fj8FSz2VfkBUnPMK5/7\n",
       "btAdo8pL+VSQtZD4YHivGej+XDNBUjU9b3wXt2klnAhnIfkAVFXu5b+dwifDdaA74DHSftC2/UNz\n",
       "I7t+93lc3lstbiR/AqCWyMbfaXpN2Y3k+0RoE6usG7s83ytCGZNWbUeQZkhL5PtsewUCPIdvHTLL\n",
       "U7uWxoXSajOjLX37wcKOworbxROL9FyroAcRCxhfGjTUSCBzHylBgHyq7Y7uBZGpjjAuFsiDjPKx\n",
       "MR/DF4uvXt7bNlqUYPGIeqwK3JRO0Hebu0fJjgoAHBfEK77+MN+GDLEZ3pZNKBbNfyyWYI+DLWBT\n",
       "8ZrlIdU1YFiC95OLxAe30XfcTjaqg4tImo8jSL6ZFO2Z5w1k04+cAwfUQ9R7PYivejXElFDvu5IZ\n",
       "3K/TcR0NBue1PtuaAVcfegi5AAACcEGbCUnhDyZTBRE8EP/+qlUAAlDreMAHG+fA1Q5dr3qeiElm\n",
       "uGowVspOu3HD6S4ds8y1cFcgKNZmJX3iCJRigNTUM1ggT6aDoJLTkVhKHoTHPJhPrumW/Yxb4z2m\n",
       "X1PpM8yb8LRr258qdwTn/1x0JHHO6PGtruFgK/WlaxDjKsE2mzBkKaJjDyfFDpHJnfZ4P60qJICq\n",
       "VGnHw8Mfvr1AAMLZ6htarPYXfdx2ammR7SgKzj6a7Swjl3fFQyGpJARPNGsEIfZzNZXHI/3AsTWo\n",
       "au2uPzJ7XqJm/helmoJfxIW5+9DTbZ2ZEuhaug2+JZ1xO59VmC0/9pkh8NR1TyM+OurHKNXfLQA8\n",
       "HC8pDAIlQIOYa0G46y4KxvEONwVn4UMlydzPdLCC4heb0R/aaLFEmUAtSN+ktIxr2c3idJYQeTHq\n",
       "22j+4gdS8uYtb0mOPeB+4x+WWvMjaGroddamtYgjT5YOk1MOHK+15eX+AuLoClyrCkComNAvBpjQ\n",
       "m/GE6hG/Tr3/4QoV/DKt912UlK5Pptgbih86GEZBfr4WkTETkNikIFaPvRvhGwy/rU14tK7xDwOp\n",
       "sg+4f6ysoBzBRkmo3mM6QJgqFpEBGXfq92LWU12pgXJb46wA+09Na4v0cWn2gBob5ulRqwhpCKt7\n",
       "EM0R1j01oBhDyY4FxuKatih1LNwlwmKEm9ulyBDpWn6TwzH5aD2cyc/vok7WLs8RTl/6A6wVua83\n",
       "7p5F6VEC5m8jsC5yel8R4AVax1GvykwhKQd+ckWEADlYmfhRjnPpdeK46E8YyDKnBffBxwHzIB24\n",
       "E09QOvOtWZYhc7/MNGIqoDA0YAAAAMUBnyhqQ38AB/DQD4yILYqt5zKxZmuBUHgC335KRVK04r6k\n",
       "nVaOrnpdgX+rM41zT0UZrS2MdNfbh+pge+Hk9K2lPE7lHFs6axMKahrwP2+VyLSf5qAD8sei0e7z\n",
       "mRPPKqfvX24vvwD0kecNCOdpLz4phi2WJVLS8yuicdyCb+n6QplvRIWtCKAOz7RULih4MFzEsXI3\n",
       "HCuGu3DvHX79ay38pgME63aUQSkKXyDhobh5tE7a4znBMMJuGiYLwdgTrYPsECA/wAAABEFBmy1J\n",
       "4Q8mUwIf//6plgAUDqaoARldled97PbSDZA3gcYn8UTf2zanHY/nKFLns/oNNCg4+o8s9Ml7xqDb\n",
       "CER66nL+AcV18d9m1beabhrV9jewatYsXcHjbWe6FDcZ6DiL+MhjDNvcoEJpTqdOU3TkaqFYFJ8R\n",
       "Xr82U05zDn8+4hX3lhB/dog1B34PXyPpCM5tXMvoQb5kPGzr2VhsRUeWk8z1anZj3/shCDh2Q51K\n",
       "7nPiRs//iJZYviA1JpzkU2pMxUWdsCpkfsBG4AI/1SaN6PA4NJXUC6lvYwIx6CDhiQiJK4PBNRKv\n",
       "oiGK3FvbrRPdKzrbIeDDkS+k2pC+gyMPgC5VUJzjuWStIPUIiytnWiqFxuJO8lYrOPqkbTfXH3yv\n",
       "rVL16eJPJF/nYZJeaLX7kO+CQlYiTmblhpUMUm0UxCIZDSP4DSc6NPwZ1A09lLxfPq6pFlATBsrm\n",
       "AXVD50jh4d4INEmB2x4YykuBCFfp9Lw9Z2hS+C3DuRGJSM/pKhWdTHZTgLc7LnnpsHVLLmDcYTkb\n",
       "4TfZxPxlv2azmV46H1+ZnUuzQecF2sUqn4g3ww6YQz7E4+l/kLmWhMYLp6dMCfu+RhopWTMDVpmk\n",
       "mtQrLv8WYuIo58Yha3PmJCkUkW3wZMuzYupDZZ+21NFoUsR5t5wzz9e4OlpT0ejYAwufhe8RvYJ/\n",
       "EHLhvPEkjWRfkYuaTPSWRYkBcGCAhubofLy8yz+c3Dm76TWpBzniVklfqFPORbrtI0BaUc1lxCX3\n",
       "foWdz+DNqiFzvmE2Hc/l9Klvg+LZ9gOk9jAD91blc07FZPuFTfqsLo0ldbucq77aXDnqaE1skxJE\n",
       "pH5tX8QbuDG8KPIY/6UCQekTETbXGg9Io1wPKVLJbrQzuM8CP+4Ucicdsif7ZE8Q02Y6pRZ1k74X\n",
       "LQbysXJ9VjeABWwO+8lGw40Yy6frXebrDsP28d6GBezfJ5UFE4xj2xEbKFAj98H1FdtsfVYiu2U3\n",
       "ZoddSc+3V7M94QNJQgMlLfzgVjJP02mA1po+5v2X7oIaZdKr2+IgshH+l7uNd/5AwcBE7hbCdMln\n",
       "2Ld7srGSXbESTqkENIArcf01S4fOhx8/MUgu3rmLAq9OUf5vsNgwoH3sEfrcXfmKJbs66uQyHvCe\n",
       "CaibMvQ7SMKI3W5Z6l+3Ml7OLEVg4tAi+naUm2d01QHvUiApLI6thW+DvcD1j2Z0htK/bBtkzcj3\n",
       "emrRJ1aZ6wsJBWh/+BUqyT92ynVkTU4vEoXRT79FBHVHfBJwzSIzVpCZV9sdfBZw+/UZI0fP8UKA\n",
       "cosaSBkD/ROlVv8jTf1VgyRB8rS+9gfhO5ShBe3j+HaqHaGrqDdfVzsquH5N7FuMRjM3FKAH/8Wp\n",
       "vnRm7RUpWB6eFSNSFRRrNm7bCmuJ9VK0zHxiWpFBzJxsNsPwrozfkF7JQsr5kSco+8zaeQBFlYcS\n",
       "9oEAAAIxQZ9LRRE8O/8ACgqvXm4boANqudj3JSUp4NqkG/fGgwZm9iABXg7K7OB9ShDwJQ/AH9yn\n",
       "+PhnnuEN9cAqYJ52IcoRenC12L/jHkFdc/5U8WtaftES3Wzlgd2ycEFCMFrYn66s3WNOeyGfZSKK\n",
       "z1BwmhHtigbmxEU1cD2FYw0JPCsLTmKzMVaJiTAggNqKvIawyi8hcojW7X+KNWso89eQ30Ii247z\n",
       "aJejlFlc6afLZEsLD0TixHsVQBSNWGzmES8gDaONp9X22I7n2QCJIqnmary2uRBaECwCtsuoYwip\n",
       "nATDP7E/NdUmyaGOhciNdcPfNI+Wok13/iDWDZQ+b83QxLxsgkEv5+nLyGd9VHh+ONMdYMpgMoOp\n",
       "kqh65Zaf/70EYuvzsW8nXp019OKDLw4Tf8ycOj2tc59Hzi2J8qAFPlTDNs9+iFzfrk1ihJgo8HIA\n",
       "mbhkD/HaVfONttzro5L1HpKVRWp45m5QdWsQy1U0igibMur3iny3m5GSjyqQsr5fa46QBDW2UN3t\n",
       "5Y1uW/+aWqLFEnORMpbIOkW/iHYgcX9QerFgRQC5yoG0szvKgBMUG2aVq7qGwj4v56GNI9rQ1YdL\n",
       "zzY0CGg2OnXuU/A8yG2ihafyAaDE59X6MQ70rCjCQ/HVFcanYO7im3Kg8sijIAeb7Vge7LmKR+c+\n",
       "klrCOgyeAhJABU7XCiJCse/Phf8xvurAi1ctmYr+0OejxniGY2yjnpFKXJnefka8oh/5OD0gAAAA\n",
       "5gGfanRDfwANghM2YFfRnUNpMjmYjKHFRX384LwNL/pm1zPMUknd7aFQDK9ACFPd8uA6y4cFxxea\n",
       "WXE4vLpvidY8PzWI1mncxCa9KxI/R3oA6qfH7T7AokRnwOqTCj9o4IRvuHA0Ysmwgz1ZROxbKkSZ\n",
       "8FkCs/0sgT2qwSSGnY4HgkuOU4p4l23v7OHbAG/KTmJf4tFZtIZfts+EzsIHK9zg27+W5JcPxYsT\n",
       "B9YZVQWhCnWoywyl3w7HcNZoT/JvF3kFgXzcAeZy8Lae1H88kAHYqoOQPBK9hxMdAXooVJMNCg1K\n",
       "gAGzAAABwAGfbGpDfwAOKUJeFcAIU930pWlLihVNnqrC/SjmAtJvT8Mz5iznDApsthMbPVdQi5Pe\n",
       "cJJ+L1QGd5mrd6quFDdSUxQVBgNVPLa+ie75FPBUpdReTQwdfMUv+kmhIXm6j7BIAwYBW0IN0PhO\n",
       "o5xwCBc7OM7l6XylLAqLd1I+Aq2mm0SP2ACOlmQuIP92xymRFpKhZnbxa5tVAwDN4umdtvt4ha7Y\n",
       "kpK89fcL9t7hgGLNT14lvDIjzxc93hMJxAlg01lBlCPbmhlk0in0r0+esN50q1By63olE9wjrq1n\n",
       "nSMqXkIUnFFSnSUEXzo4UxPsYfDqc/f40TwkwjFgVUR4gnlI06/qcjgqn/r3dlyUBJ0jBBKMHnw4\n",
       "Z/01p8EUV59a2cfr/Lh+IxKRZKs5zhV3u+UqcIkxhz+fZR2UXQRUtm8qlTp9YR1ONJjFjajklqrl\n",
       "0YoAolyc+k7lz8+KLwM+xlxR+SHIVbyQiuqn8/k0aB8ISTlco6x3UXt6mnscfawFk8ogji+7rF0B\n",
       "lbErYtH2nPQEVNjGOO4idTK9ZL27y8hebymF4cKvMoLhwuT+dBbx6BZeaAGlhUvLlOROb2ioKSEA\n",
       "AANyQZtuSahBaJlMCCH//qpVAAUpiHFT1oAF1XnJUnYYv5z2q2TpKzY79Df7JqjCHFcGkCGz8xFq\n",
       "nriUUS+HKc/sU1wgfE+7MTPVUAGP+1rr4BYgfJMuV9LqyCNVXjMWZAF+xdCnSbmRuCkk/aRq6Asm\n",
       "mgTZj0fNoIflE4eS5WjQG0RNxo0Ruq/6idoJfWJpTmUtH3zVbvlMz8V9qDUL192wwFdpfjcVYo6u\n",
       "GEhLZzfM8pNxGolffRomiBr4j4RRbRjRdwJy9kz9sG5NYnbZMqFA4xy3mDVhGkZuWJI5JTC++MKP\n",
       "/ECyIsZwvfJYBqNad/NoWo/f0izD4YmEfhsUNLPymZP6bQvY6BCzNjrswfdNQRTE2kavnbYB7a1H\n",
       "2VqmpgXWtYfcK3RvFttUIfPj8LNX9C8TeuNCV+W/6/oht1QWbRCVtuUH9H84jJuYNsoWxhBpFVvM\n",
       "0JQwdHGnPMVRmv20tTgwJTjLc8xvThgeh7/U2qreCCeKMkRdmCWfz+i51F95+G2QB3tfmdXlFz8t\n",
       "Zb4JGMlqIsMdxLHE2X2BCBLlcZJsodnhH49JdjidpqF6k4zDsitJnB9Cu7/i5j2exWyT9O5+jvty\n",
       "z2C7QEBAuyoUP1vtoxdwuSj/KhdPWtLt0jXyU233RcE5W9lZCpksFirAmt37sdiz2bVQsS1MIzLg\n",
       "I9Fp/E4UHUnB6K8KzulqYG+7OvmGur0kdqITa7A1phr1+T3yqJUv90GJNUboVIg9wBszvay7l6CC\n",
       "PDLGrN3EmyJ74HcMvg6o6OSqBWY5a75nd3+rcC3ihYPX9RGQheC4acAOzPdyWYahPWURK9ATxJD9\n",
       "CKRzfWT9vPFnQazZ6xUcLAuWDx5sVVwqDxvkFTymdrdwA8EXA9vcbgopoypCvISf6pfv8ugHr+KM\n",
       "QESe0BDDXYcElY6zz1zc2qX5Q2dKhJKigtj+HxOaLdT60ZQXnOdM3Y4j1LOWdvEc5xDbVgkARLAr\n",
       "H7d3UheEHWXR1Utocxjm2g2aNhCB+DqxDXaoId3e0LjgmG35sB+Kh7q8RYfiOTw8hCbOwf4sbhjH\n",
       "SHKahwkzgLem/fSLKgPPCOPVfMR+HjcAvChOj443JRBoMQq4FsAth7BDNbT4l1Jcz1XuVi43ZPHv\n",
       "3ysZrfsqW8617WxM8RSSWgRo7M3Hw48Kix3R3OR5AAADR0Gbj0nhClJlMCCH//6qVQAFJxFyeU31\n",
       "vfgBGuX/kJAtPlKxazajI+x3sLMQc/AKJVhS8blmRqsPwvL7Q18DDEk2n2azMYIRjuDxavoL1zxw\n",
       "eYzk0kU4AFSuSDT8fYi5CGLm9CqQpmo4ODm/k65TbHe1M53wycHMZ0v80q7DmwpacoloEV57Pzw/\n",
       "HllejCJlnk8hOYFvnskeIQzA+ZgIb33HQYbN2LeBPWa9rb3j7Hi+/Ewx2zegkf9aVb2E1VQBjgZb\n",
       "acV41T0UH2bB/uGZXmAkMk0JkuT678uILHU38orOZaBDJLH78vqhgiqSe5ZMx7A6tMHLovQAD44J\n",
       "w/dBiHJAyytatE9Lg/DE5Q5xxVIx44wrqMHr210UyNvNSsq17pb8oX0K6Zh2n65XZ3kQajpx5qJP\n",
       "Yu+Q5M1Sb6dxPc9j/UZbshkEMgy2k7e4Lnl4buYCaMMtVOCnwZKXoAowry5s/YRlWXUM34x2zzfQ\n",
       "avvWiSFmZteZ00U3X8mS9aUByiV3VK26xpTkHVn5u1B7TnxJXO2WjKResk3AkYbhMF/FVWq/RrkA\n",
       "4naomMGQBCjqhA/8CSqTJ280U2l7Yq+afwZIOIJM7hsKBEWl2XYonUs+7Vh4aIwH1I2/v8E+8ZxU\n",
       "Uh8Dw6VkneexfM3rFzDGObq4TAEuKNGDbanyPdrY6d7jm0mMxbggBbNe0AsFELESSnlypdN3oHBf\n",
       "xBkxkj0DIeMWFZ5Ul0TYBjogkiQs1PQfaWu52qFLy2xdZaHxTCJ7HCPJT6A2ohi9Bn4GFUBgWzj/\n",
       "973INNP2+VG6SPWfdgzdC92VC6Jl+GgZlP/ZTOfq5Xic/dA2/psQ3O0YCWDqbO5DKucFxYhQgfUL\n",
       "SIzu8Mdu1CLRWwwc7diowImw6ILg2lk/qYEeHayrSgd3Kq1b8O6vDjR14F7m9xu0dAOAbqwj/sAk\n",
       "ViLJyGdwGxQwcdv+BiHrCgfYx7Ea/FjP3lIMJgyPvHPOcm7f3xsMayt4rJm3M+bIY56eytBru7iH\n",
       "hqmub2v/MWqtuYG9A7uMY25z3TmkGcs0M0Cd1g4SnH/0iwIuyfz4X+N7/VuQtBMzJxpbWrnajsyW\n",
       "7aJENJhlrkbnnlNp9YYzcRwxAAADnUGbsEnhDomUwII//rUqgAKmUjkAJavTJnixNyUg3vfKpRO3\n",
       "+kMzIFgcZ92f2y4CMdEVG+98vHrfQKfMKTWaq0mk7vdWhmTF3CnPJwLwcX+4G1PP1Hv46w6DxoCm\n",
       "80McrRQqktCPc5ZjYAwfHRNkOrO3h/ipLmlv8/YGCrL721ZDvkp4DjXinhmvCHW8+4cvn/oZtuC3\n",
       "RiVuJhr1dweBTxckNeZiyYPigjV41g4yZxICkSi6TZhNymknb3agyYOfD2ghtnC4jRt+URzpIuu5\n",
       "zspT4jYh+SlTKQ755JT1KFf090ONJznGKZP+ZlTo4eSUoQz0wP2hToH4RbmdjqqCnSdsxa3oZLyo\n",
       "bmo6rrKCFhUYb7Yavg0WPNPulg9Wu85JUpC932k2TFLaaQetf5hdYKnJfU3wMF8ufcrltXd5VDMy\n",
       "HefJby3CiGEIQ3E8/91bTvRuQ6E7sqCQlQugPs+vuKgv2UIpHRywEqVtyqt4zEuimBpeVNbJ36/h\n",
       "68HTaHKQenXQA2HRoCSdjlJpV/2hnRcM3cxwdQOcTlpIBTA/S/f0FFhi1I//DEI6mfaDFf1o/xJK\n",
       "pRQgvZpmv9bJ15aNbOEoLHM+dfR3UYZ0lK6kVRtJf52IhsH/9hY9xHP1M/sRp9eG+meBzcNrIrrL\n",
       "9TcH24XvTSx5peS/cUdXUjC3ox+91yiZPdpor4+VV0Avn7bnHZykU33RV+afxM+17+0FbDmiegq3\n",
       "NJOzI1clygzMX60Zzb7zmJAKor5Q0Xf+673yS+tK72LQFGUpAW77ycRQ5lQrzc+gwUr2cd37ShPn\n",
       "TSXmkJIwTUIEnhmWk/FERnA9tqO7Ml/PlsckLjhbfvq13CtO+NV+J7BwZp6Hbh7OUUxuznFMAJHk\n",
       "k2pBR1s9gvaFtd1Gi9LPtxA8XHd67PMD5RiLJTk/tzbA0DHGHu/6YI/YZGYC0JpgHLdfsVdrt6xS\n",
       "rB+SNg+o9u4ak+gtC/hwXEGMp7bvkQHeK6Ttnb7YB6YHtm8ljevtV0ZLs+X4GSe42unrJLXQW1kl\n",
       "uvGu7ppC6/nFg8RYMlBJBwzLDnur7DHWhfJbRiJHmlwXkaFl7c8v5fn+PGV2KNj18LN9SEThJ2gD\n",
       "VL6mv0a+an7lghusz9AagDYpT1JBHPv8WMhC2+ger5xfZMyAAEbAL3gEQgXJ0+WcXssQNwv+6p5U\n",
       "sp5Cvfy7LiAHi/8UUXeFjxtOd+lt7i0av7kLDHkPGmMnj/AAAAQ5QZvTSeEPJlMCCP/+tSqAAqZS\n",
       "OQAtg8xZ9ISCbfooye+Tmlsh5qZX4wJVJK2/+sN0eN1uuOltzGn4ECnlNeAXZsZwZHlFaz5rduEq\n",
       "6Us751cAiwGRSN/Q7WsGOl+cwD3rRI8xWiqIQLQB3E3rMk4WL8WNjzFgeVU3mBC7nxeUp/hg/jHT\n",
       "Od/etjPqlBSn378inO75uqD8U77TF//8HkE56qPgpVNFmntByHsPf/1YyuAvi1H1Sf9xTC4m/gfr\n",
       "H3CN5X1IzviB1JRWq1zXCZf37lBW/RtV5c8WEOsK944i19gxVVKU6gNa/FcfAkgMcPDCy9L8tuwM\n",
       "kRFEWQFZBx4IJ0VQNe10i1Fp+TfkfbWuGc7GTL6Qf3n4/6ljl8dMG852f7R/vaRmZ8l3uPrmqvax\n",
       "CaHOoKtT6yGUPg6fo9ACcnv6HuiAQk92ckJhQJ3g7f2Q0R+oijSA/nOkInicysZiHpeKENJH4HBA\n",
       "AHltr92fYCxuC12niBAOx9WvvXykyWQLaPDIjyrlXEFj6EtRVPDFBcd15aXjqrvsbjtU6SSrQjrN\n",
       "AlP+2v+2x3WoCUwY6FlqpO8NT4jjSwam+75lTJPadPYu7SgDH9X4G/g/jh1cMWubv8IP/8OIADyK\n",
       "RLOXj7aRSL/81TZc5f43lzCLwGk6al6g4xVYlRJM9a3UG+rjwEU4PUdNatkEw7HV2ayBPl+iaA/g\n",
       "Yy8Zs9gvcisn+ViGGWNr24DU+a0QisPG7SiSvEScskYMSKT3z77Qohzmr3GFZ4TOf+wcXZZK1wRb\n",
       "P0yFqlaF7O2+izE8UMzBfdC7wUEm47OAOBQsu43J3+Hn+w58sW/DcN1ubLwjZHfohCHE8EDPag20\n",
       "1evN9erIkukpFNDoRlxBfd5uObzdNg7bZVtBLdUeTGVJLGZZ4YG3mVBVJ/rjKWkjJmyDgUEGuIKH\n",
       "JSk0IzAcZoj5lk0KXVms7IKMdGM8/46jx2xTWR3E6cRNzu9iGsmT+Sv+gg7SqdD49rxAnZ/YXaP/\n",
       "QIZwKTcp4sHGxwPPRVmpGEb/TjvAnt61rYsh0p+TSCisSjzprYXiiz+aJ7otQsrPvO8hDCo9+sme\n",
       "pftWXqnl13FUNaCypaUNKOBc31snD8lhegT3LDpQU1j33l08icYMAqMCW3K9Io5aTNEDfn7Gmstg\n",
       "d4oGr5C85ggf6WoGxa8DuBWf9T4wrmeN5/oKxgqNSCpvQk75M22qADAllXXQqZVNTLtB6XFoT+TZ\n",
       "pXCYmS3oytLujrU4Lub8uOzHoNOUcHAA4sXWHFqxC/G7M5xujFDIyoqoedcJnZdl79CIxj+2GwTy\n",
       "QPVUdqzzFHjpyRvoS6JXlB6/i+E/8sgGdDw15eNF/AvUapV3M0VoNRnmlNPxZ+8QvEoL7xP1vSQJ\n",
       "MKFIA8BPUkMMQgNodP2Kh02SRMLBwXbB9lI2GkyvHFd0HWBxQQAAAV9Bn/FFETw3/wAPMpX1rIAC\n",
       "c8GSg6pXN1spYE7k0v+ua9EyykC4/kqawJZJmS/LUt72sllUit6hQKl4338HF8H0FLpQflr/mBf9\n",
       "x9ZMBYoNxM0chOKtFIXddWiQuZpHGdk6h6JkxuVYYOF5twIuT96d3Py44jrmKh4U5yrrvjE1P1ON\n",
       "ZJHEUb/Jpw0n1TS0v1L+yot7KEV8YF+Lp2zBn5smTtfg9EqqjzmYGRZvJOfOhsm1ecacEc7+Ti6R\n",
       "Jh+i2hYowZ6VCqNh0PPvYm59Q7795m7EIM8wIGLcj/13HMCmCdwVjEyU9UkD6agiXzXfeMgFJj6P\n",
       "TCZixpH5UWrszelufJbWZ1DwgI/zKtJRE1gwIaUNWF9/CloDLGJ/xfpGuwL1q5ph+TgW3wXKAUEN\n",
       "8beaeZNnsEC1f04t8s+23VJFXjLUu/KLBoNwyqb2NMtEQYJY8elHgS2fYlDaMy0mB6UAAAEXAZ4S\n",
       "akN/AA8xRqayAAiD3YgMr/I4pxsmP8/MbNiws20z8lmor7Oya0p4AEPhpaLwZ9d8JY8Ox0upxWcw\n",
       "CRzy4TOFEUadNqJ8Yj8n1cIpWAM5Xuwzhs52vpnq5ww7hwHNuJRosIdR+UqH8BUJhnhpv9MpRT5W\n",
       "kr6k6yRVL1axauXeqdI4k8Tf+FNzopNctSwIBglBGg4lP/8peOuUBBLdX3f/SxnKTA34nPjERFLw\n",
       "/cXvEumxFjqR9Pi49ao4dTUB8q8OfDVWnYB25g0lGydszVnQ8iOim7f91w8vbaco92R2ACxxS+Ah\n",
       "XPItdVdOE0B8Dsoxbr4BiuniID9tDVzdqEd4WWZMTKBNE4Q3VTq46AbSmf0MAGVAAAAD00GaF0mo\n",
       "QWiZTAgh//6qVQAFTWZj49ACHajg6ba4oBIj31+I7sFOMyqLtnBsJClZhF85nxT/+oP6x47MbdWc\n",
       "HDr/VdBdVUckXJgjIzSPcrZZ2arFoqXi2Bvaic6O3GRfQaRB4cCxCK7sSWdvb4AZrrihHqrwjbI7\n",
       "pKOPqWydYcuGs3/6+aejCWWjDjHw1YGYw+5baENn1+vqWF476p+MPzdpbEuaYMbWsCu6lQeVhxCY\n",
       "5heTXOHT/1MpTfNAlkIoyWMMTF9MS3ua9wUClRcmMrlG3F1ASkB2ESWtlcdeClUl3THHhKVZJm0O\n",
       "3XL8vZgc35pflst6vf8P2ERsdIcwxKi8bOrSw/ImNunHEx1cpVXkhQjEkHXndN+GG+gxkb5cNHhd\n",
       "ioJNC4vgUhAu6AEQK8MDFcpqnPoOlJVoJYQkMIqskmHZ7OmSyF25Qeh4Fj100TmYqxNGCdcrnI8G\n",
       "GF2WS9zT6tZgKuLrJPK2KLwT1JcvKzlrcJPrpXguBIaMPhAFAO4Uq05kL5g2EwNi1XUi95vNRx13\n",
       "X8WTS5RIDUwKTfqnorBON+M7MuE00qu9Y0AdthRbJJ/yNAY0skSu9zN3TJUKLtA0b6pikJUDE/vI\n",
       "F/HKde8WE/sCUwLScCGMXapTfuF8aiZnHtjOsmr5lS4tNawtoF6VFKaLnXC5J6Hr5b40/F4ZN6o1\n",
       "uomv5uHtKNKaYr24Hxq5U1NQo+CA9kpwZjHdH8ffsSE6CjNJkf1e40mfsdmMWlsVJYDDY0Vcb89L\n",
       "LEgWx0U999d5bejNHD/ScQZaqSCWcXFkL9zmDkZT/pRDMwi4Qd6K3CqkqrOgMiC/RvLWDALw3HPB\n",
       "d4L6rayLejVOxeaCtwDq50LO4raCOpDz7uqDBOPz0BF98D7MbeG+3fIX8IoP3ndJqZmTaZPF9F4R\n",
       "hPArNDgjsT6O70vcK82+7WQ0+GQcsjRa8bHrzyOdCLYGcRuEjo4mznbjt6pTxRdOTqW/Bsas19xQ\n",
       "ooYTjZ3dr5HvqmTGSJ4aCDEFcwiSkYOktk9HdSUAeIOIp5mORZYAFAOI1ajePw+9ztwbsp1XLhs+\n",
       "v6JdHwqo6MPJ0WBo6j4tat2eQ3Np4MNroDre4XcYuU9K/6ZtIbLxqDImduPUEl1ulBtQfIswfFA9\n",
       "TyGqo86u2pP13flZu4c0+yLFMi2V/1yFkVg171/T8SvkCTwH3+ge1WlwjepOP6oYpp/b2ePMM6CK\n",
       "ydiMuHyV623vTsY8eqHyIVk4wva5Ymg9gGeU5ZV/teSjDEsoAALsXDBK9MTdKKpCPRguu0xxWekx\n",
       "xGl1AJMAAAFYQZ41RREsO/8ACljjAA/oveZmULd555VmBVvn3S/4PEw34x/q2VQ0vHy53ZpCrXds\n",
       "m36qWPg/i0lmrjfg0hZ44gDnQFN+3+py1F/aPSSlzUL7W+Dhv59Gggk2pnhKXbgw5V/Al0V0BJoF\n",
       "/4ZI3p75MP0iN4rz+Bg+KP5EKTTQgVAjO16hZ/a7npojYZeF0zep2aEKUzHLCYMM7VIT0l2eW4z3\n",
       "5HTvM+9OE5ppgb54fSCASPyKhQLwxa6URT8mCSuLMXrnWb/K0YErEiZjYSkJKiqpbRRAv01GP4Zf\n",
       "y1UjrCCZEZnwSDuW6p3/Imu12b7Fs2FvjkjmzOweF4jt2rPYKah23dhxkLooKb+8vuHtcdhOZMOQ\n",
       "3ScgISznxPy/kSgq2pnBRZKAnR6cLdTSby5yTl/yD99n3ZwpP8DRR/rIHIsI1DZMVWUgviAXOWsB\n",
       "POzvgVeQrJmgAfMAAAD1AZ5UdEN/AA5RVmiJACFORrKnOEHORwcnxwzz/AsyjjZrvDcGvMG2IhRb\n",
       "9AaikzufMGQIMuEvWhG6aDL8Un06K3qB0Tn0OxPJ1f1jUN+kBm1btk8LJqbkO3oeeGH23kuGN26M\n",
       "ButFiMCboM/INQ+ZwgqSd+ORNhGSx/Qu1DEDc4MMHz9ZcrWULv1xe6FNE3N6duYYNtPMcFi15lH/\n",
       "S/Wg2xk3k+GK3s7OjCguabTA73FsKnjYwBWkczQLq4IEKXX7N2BKCCP3llFc2A1Agts+HV8cO7Dt\n",
       "v2l+eJPH4IIFyLMm95JZIZMHHCsBKOv9vgVz4pAAR8AAAACIAZ5WakN/AA54z6jBMhypAB/9e9ow\n",
       "qwaDOLlsPawoHXWrDZAmVcePPKDhxRCOl/qyFSDRjbcZFeFI5RuhwFIqEzTNtI3Edb4QFG771MyK\n",
       "YLj84W8oUVa91/qaVh0L2E6aovY6rVwfFtrLws1Jafy0kTqZFHnekiJQKW0JYPzuZObrgPq8huAC\n",
       "7wAAAb1BmlhJqEFsmUwII//+tSqAArhUMGAEZXpkz7TgLEYQaqSVv4ls+40NtN5169vQ5VOhkCVN\n",
       "zCkscCS1bC2/kwgXKxlTUftgho59cw3YrPiNj/B0xs94GVN7jL2H8mLpb8JShxkUVkNRcSuMa75p\n",
       "TYT5hDrZ1rtQXV/iCh2jhvbPF47aajpXHyRk8JjHBrOQBpQh31nKY0Xo5AF0a/RxuibGLDM245+J\n",
       "xdClIAeRCpQhbWQYdi0IYKxV4YHep7r1YyOAWI1ylNUU1A2AdffclQ90ErYwvg0EPztG4powk18K\n",
       "sGf6cm4OZKNjvZ3+eyEWY7695tP38K+nQLJUo+WmXvGNAjrZ85J3OoDBVcYM750o7zQyapT+KOgl\n",
       "mH16RGE7olcxtvIrXZnca6ybdgsolnREaXvzuDe8kbysWPr2GPel2893YXYCichc/6Xd796oVRf5\n",
       "+QZ158hkWT5vzznQeSGvyK+hJP/Nrriw2jq6Zo1wDgQ873X3xcQM4pXbRacbrT+dReDXOObjGtQB\n",
       "fdhhZyzSov4u2Bdvt6fBbI+xnTb1GVpnAhGpT9j0OD4QQn/EI0fJ4tVdXvtwEXPxgrKRAAAB50Ga\n",
       "eknhClJlMFFSwR/+tSqAArfWhzADj3pky1SbPugUzYNwdddDUYXrfr9AoipTcfl3Mn8P4lGpmy4Y\n",
       "Zw6AbuMrWbEI8F7K3HTT0Ud99aXXhHRGi3hQFgTCFfb46KumUF0dkHNfabg/sCLCOfeKVvFNiUxx\n",
       "48FckE2BKkC1af5N21AEl4rq5tUdMkho1VKN/qgCWa1JOWYjbbzapFqmbrJDGh2ZLE0mTzP3VvOj\n",
       "2gemNRl6SIBEB47uuf2XhGEwDOZOBKnxpLVGhtM3el+Y6+TYw0d2UpSGhQHmdHrnPrjEHps3yzSN\n",
       "wqdV3R/UDJ8ss9riX2Joy4qOcwE7TZR/BE175+njwZpIToN6obRRk4HutJfUAFAa2VpZ8hHjefyn\n",
       "CFFJlERsI1h804jLN/Wgniv01vNJaA89uRL8pTtwzMpTNH07WvqAHG/x0IIm4KK3FZ6lIapQoS7s\n",
       "y6gnSRkSe2pkisET96o0EvdvyGuaxkDWiKciCcZjsUoLfstcqKJN1heQncZAbcy6tlPDcPDBpTjl\n",
       "XXk9eNtKtu1gYA8p+/IhUtoFeK1C0pxUzTODS2k6EF+9AhGcMe60e2dBY2iFZAMI/CeTP8pLFrV8\n",
       "XTd6ga0Uj+kEFMMRZ2fulXSu2tB2lAy2pRgAEPAAAAA1AZ6ZakN/AA4N7GCADzMHhJhpL3z7u3Hv\n",
       "3aACal7fTqktN6T9RIwkeMATRFkowUN7hAAAIeEAAAGRQZqeSeEOiZTAgj/+tSqAAs3978mpBZ22\n",
       "WepwpnPSWLhytpkKK5AixWOJDj0+cMNe1gJxneYsFXNLl9rSoKbLOTU0x6Nh9eZHRYXZyt4XiurO\n",
       "r8VPqQ2dJO5raaVYbOZpNuTFkI/vv6QcGxyIJXqpAbEA//sMa9wUfSXW8/sEtty9jl8Zdv1mkRvK\n",
       "fdXqs7WH6hN8lszf+4Tjl2fcFyUwL9lSEHV1jIcbA67rvfluipmrM4HsSpXtyumGLYukJg3cx8U6\n",
       "uvguhmL2TAxjs9ecWrXhs9hrvNuGEAK1lu4M6oge6B+8WWcDi/Z60iirh+Cf1j9MwGXYg2pR8UMF\n",
       "as73o+8/rQfi9ohO/OgOiHSfwUIgd/EL378XArVw0LIUt8/FzM6Pv6/KnJo11ky8xe132KUhKtQj\n",
       "diWBZtlXKyIVXWToWuejnlP5b6a+UlgzBNi03rrOoZrCOXztyNG81CSvaI3jlJhrIwrn6fZO453T\n",
       "dsz3cQZu+5gm2GmFTRvd4FwwhGrRpazee51CY63biNAAd0AAAAB9QZ68RRU8O/8ACpmK8qHABNRr\n",
       "qB7HhSuRUdK0PXR0ljstkODaSyF74XSbT3jMdrfPpy3U4+jznyBg6oRwUFfiK2x5ibu2Vykz6mCo\n",
       "FNNaZtcXS+eLDeK55JJdSPwd8/l78yzgvXIBX46JxUUCoYTkaZWLX9rzalXK1oSARsEAAAArAZ7b\n",
       "dEN/AAfvT9AHhpADWa1DFoT17owpV03A8GX8QOSSNX5ieEZwHvgB6QAAACoBnt1qQ38AB/Ci0kbl\n",
       "Vxz3L5VpDhIqY3nBe32myCQaeB5AIXrx+ScAAwIAAADXQZrCSahBaJlMCCH//qpVAAVv0EgAC3Uf\n",
       "JUg+MjJ+1n9EsCVS8sKj13AXjVLXR8luFkKXUQoDdLrrE3qfq1JEE5pgrg2mJl2qVjvNUglJly/P\n",
       "5jeaxiYieoQScQwg+IiWf0urXVqHG5JRQl/w42gXxkKTV2Ov9afPZG629tttP4bsFWDX4payIf3B\n",
       "r6jk1yRDpcxljT8vLC1kRIXz9qgjKjA+JB+THzRIU5B4P09qx9qc54gaYnZA+VlADKnJWBHaPklk\n",
       "JVYbKXJ971YJ4yn9u+dVw6AAP8AAAAAzQZ7gRREsO/8ABbnDHouBlDuXLfNlaRn9LNES4o+eDhnQ\n",
       "pG+DJoL9LMGBRAWwERKkAAYtAAAAJAGfH3RDfwAH70+gm+pQVAEHrPzfkydItO2mOpm5XHkwAABC\n",
       "wAAAACoBnwFqQ38ADtdw12dQEpvjKK64Ysev9abE4eUj8KW8HoNtAQgLVKwAHdEAAACyQZsGSahB\n",
       "bJlMCHf//qmWABSeZFABNyzmRDyPKMiViXo5ijnKR2abq5972raHP02P7pQA4lpwRqU2SX5S3rlj\n",
       "yljm/QtQViLj0JCfS7bHbK6PaM63UXh4XJjg+i3oGZC9G8ZWF+m87XDyAwR1FwcC+JvUzmCiG+Xx\n",
       "+fZgL+LY3wgEio+4HHtxO7jlo2qDMTb1IPU5sqbT6jyhIW+IZAK1dm65Ayz1fCzkLoJOI6z8gAD5\n",
       "gAAAACxBnyRFFSw7/wAFucMeWoONGwjfTvAdgVDQjY97MY+FRAX3QaRlTB6mQAAZ8QAAACkBn0N0\n",
       "Q38AB+9P/EeLZs5LuD19FdiYL+FmTQdNm70uqtSo3glMxAAi4QAAACgBn0VqQ38AB/CioVQ2h250\n",
       "zuCelbjh0PmIclRB4g+u7CywGhb0ABsxAAAAGEGbR0moQWyZTAhv//6nhAAI6oPawAAP8QAABL9t\n",
       "b292AAAAbG12aGQAAAAAAAAAAAAAAAAAAAPoAAAPoAABAAABAAAAAAAAAAAAAAAAAQAAAAAAAAAA\n",
       "AAAAAAAAAAEAAAAAAAAAAAAAAAAAAEAAAAAAAAAAAAAAAAAAAAAAAAAAAAAAAAAAAAAAAAACAAAD\n",
       "6XRyYWsAAABcdGtoZAAAAAMAAAAAAAAAAAAAAAEAAAAAAAAPoAAAAAAAAAAAAAAAAAAAAAAAAQAA\n",
       "AAAAAAAAAAAAAAAAAAEAAAAAAAAAAAAAAAAAAEAAAAAB9AAAAZAAAAAAACRlZHRzAAAAHGVsc3QA\n",
       "AAAAAAAAAQAAD6AAAAgAAAEAAAAAA2FtZGlhAAAAIG1kaGQAAAAAAAAAAAAAAAAAACgAAACgAFXE\n",
       "AAAAAAAtaGRscgAAAAAAAAAAdmlkZQAAAAAAAAAAAAAAAFZpZGVvSGFuZGxlcgAAAAMMbWluZgAA\n",
       "ABR2bWhkAAAAAQAAAAAAAAAAAAAAJGRpbmYAAAAcZHJlZgAAAAAAAAABAAAADHVybCAAAAABAAAC\n",
       "zHN0YmwAAAC0c3RzZAAAAAAAAAABAAAApGF2YzEAAAAAAAAAAQAAAAAAAAAAAAAAAAAAAAAB9AGQ\n",
       "AEgAAABIAAAAAAAAAAEAAAAAAAAAAAAAAAAAAAAAAAAAAAAAAAAAAAAAAAAAAAAY//8AAAAyYXZj\n",
       "QwFkABb/4QAZZ2QAFqzZQIAz5+EAAAMAAQAAAwAUDxYtlgEABmjr48siwAAAABx1dWlka2hA8l8k\n",
       "T8W6OaUbzwMj8wAAAAAAAAAYc3R0cwAAAAAAAAABAAAAKAAABAAAAAAUc3RzcwAAAAAAAAABAAAA\n",
       "AQAAAQBjdHRzAAAAAAAAAB4AAAAIAAAIAAAAAAEAAAwAAAAAAQAABAAAAAABAAAUAAAAAAEAAAgA\n",
       "AAAAAQAAAAAAAAABAAAEAAAAAAMAAAgAAAAAAQAAEAAAAAACAAAEAAAAAAEAABQAAAAAAQAACAAA\n",
       "AAABAAAAAAAAAAEAAAQAAAAAAQAACAAAAAABAAAMAAAAAAEAAAQAAAAAAQAAFAAAAAABAAAIAAAA\n",
       "AAEAAAAAAAAAAQAABAAAAAABAAAUAAAAAAEAAAgAAAAAAQAAAAAAAAABAAAEAAAAAAEAABQAAAAA\n",
       "AQAACAAAAAABAAAAAAAAAAEAAAQAAAAAAQAACAAAAAAcc3RzYwAAAAAAAAABAAAAAQAAACgAAAAB\n",
       "AAAAtHN0c3oAAAAAAAAAAAAAACgAABTeAAAB8gAAApoAAAM2AAACogAAAb4AAAGKAAABpwAAAnQA\n",
       "AADJAAAERQAAAjUAAADqAAABxAAAA3YAAANLAAADoQAABD0AAAFjAAABGwAAA9cAAAFcAAAA+QAA\n",
       "AIwAAAHBAAAB6wAAADkAAAGVAAAAgQAAAC8AAAAuAAAA2wAAADcAAAAoAAAALgAAALYAAAAwAAAA\n",
       "LQAAACwAAAAcAAAAFHN0Y28AAAAAAAAAAQAAACwAAABidWR0YQAAAFptZXRhAAAAAAAAACFoZGxy\n",
       "AAAAAAAAAABtZGlyYXBwbAAAAAAAAAAAAAAAAC1pbHN0AAAAJal0b28AAAAdZGF0YQAAAAEAAAAA\n",
       "TGF2ZjU3LjU2LjEwMQ==\n",
       "\">\n",
       "  Your browser does not support the video tag.\n",
       "</video>"
      ],
      "text/plain": [
       "<matplotlib.animation.FuncAnimation at 0x1186e89d0>"
      ]
     },
     "execution_count": 19,
     "metadata": {},
     "output_type": "execute_result"
    }
   ],
   "source": [
    "fig = plt.figure(dpi=100, figsize=(5, 4))\n",
    "plt.scatter(x,y)\n",
    "line, = plt.plot(x,lin(a_guess,b_guess,x))\n",
    "plt.close()\n",
    "\n",
    "def animate(i):\n",
    "    line.set_ydata(lin(a_guess,b_guess,x))\n",
    "    for i in range(10): upd()\n",
    "    return line,\n",
    "\n",
    "ani = animation.FuncAnimation(fig, animate, np.arange(0, 40), interval=100)\n",
    "ani"
   ]
  },
  {
   "cell_type": "markdown",
   "metadata": {},
   "source": [
    "## Pimsleur \n",
    "\n",
    "\n"
   ]
  },
  {
   "cell_type": "code",
   "execution_count": null,
   "metadata": {
    "collapsed": true
   },
   "outputs": [],
   "source": [
    "def half_life(delta): return 2 ** delta\n",
    "y = "
   ]
  }
 ],
 "metadata": {
  "kernelspec": {
   "display_name": "Python 2",
   "language": "python",
   "name": "python2"
  },
  "language_info": {
   "codemirror_mode": {
    "name": "ipython",
    "version": 2
   },
   "file_extension": ".py",
   "mimetype": "text/x-python",
   "name": "python",
   "nbconvert_exporter": "python",
   "pygments_lexer": "ipython2",
   "version": "2.7.13"
  },
  "nav_menu": {},
  "toc": {
   "navigate_menu": true,
   "number_sections": true,
   "sideBar": true,
   "threshold": 6,
   "toc_cell": true,
   "toc_section_display": "block",
   "toc_window_display": false
  },
  "widgets": {
   "state": {},
   "version": "1.1.2"
  }
 },
 "nbformat": 4,
 "nbformat_minor": 1
}
